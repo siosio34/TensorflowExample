{
 "cells": [
  {
   "cell_type": "code",
   "execution_count": 1,
   "metadata": {
    "collapsed": false,
    "deletable": true,
    "editable": true
   },
   "outputs": [],
   "source": [
    "import tensorflow as tf\n",
    "import matplotlib.pyplot as plt\n",
    "\n",
    "x = [1., 2., 3.]\n",
    "y = [1., 2., 3.]\n",
    "\n",
    "# -10 부터 10 까지 랜덤한 값.\n",
    "W = tf.Variable(tf.random_uniform([1], -10.0, 10.0))\n",
    "\n",
    "X = tf.placeholder(tf.float32)\n",
    "Y = tf.placeholder(tf.float32)\n",
    "\n",
    "hypothesis = W * X\n",
    "\n",
    "# 최소 제곱법으로 cost 를 구함.\n",
    "cost = tf.reduce_mean(tf.square(hypothesis - Y)) \n",
    "\n",
    "# https://cpuu.postype.com/post/161789/ 코드가 더 쉽긴함.\n",
    "descent = W - tf.multiply(0.1, tf.reduce_mean(tf.multiply((tf.multiply(W, X) - Y), X)))\n",
    "update = W.assign(descent)\n",
    "\n",
    "init = tf.global_variables_initializer()\n",
    "\n",
    "sess = tf.Session()\n",
    "sess.run(init)"
   ]
  },
  {
   "cell_type": "code",
   "execution_count": 2,
   "metadata": {
    "collapsed": false,
    "deletable": true,
    "editable": true
   },
   "outputs": [
    {
     "name": "stdout",
     "output_type": "stream",
     "text": [
      "0 0.374982 [ 0.71653342]\n",
      "1 0.106662 [ 0.84881783]\n",
      "2 0.0303393 [ 0.91936952]\n",
      "3 0.00862984 [ 0.9569971]\n",
      "4 0.0024547 [ 0.97706515]\n",
      "5 0.000698232 [ 0.98776805]\n",
      "6 0.000198606 [ 0.99347633]\n",
      "7 5.64929e-05 [ 0.9965207]\n",
      "8 1.60687e-05 [ 0.99814439]\n",
      "9 4.5708e-06 [ 0.99901032]\n",
      "10 1.29994e-06 [ 0.9994722]\n",
      "11 3.69797e-07 [ 0.99971849]\n",
      "12 1.05184e-07 [ 0.99984986]\n",
      "13 2.99478e-08 [ 0.99991989]\n",
      "14 8.52835e-09 [ 0.99995726]\n",
      "15 2.4139e-09 [ 0.99997723]\n",
      "16 6.89965e-10 [ 0.99998784]\n",
      "17 1.97755e-10 [ 0.9999935]\n",
      "18 5.66018e-11 [ 0.99999654]\n",
      "19 1.57137e-11 [ 0.99999815]\n"
     ]
    }
   ],
   "source": [
    "for step in range(20):\n",
    "    sess.run(update, feed_dict={X: x, Y:y})\n",
    "    print(step, sess.run(cost, feed_dict={X: x, Y: y}), sess.run(W))"
   ]
  },
  {
   "cell_type": "code",
   "execution_count": null,
   "metadata": {
    "collapsed": true
   },
   "outputs": [],
   "source": [
    ""
   ]
  }
 ],
 "metadata": {
  "kernelspec": {
   "display_name": "Python 3",
   "language": "python",
   "name": "python3"
  },
  "language_info": {
   "codemirror_mode": {
    "name": "ipython",
    "version": 3.0
   },
   "file_extension": ".py",
   "mimetype": "text/x-python",
   "name": "python",
   "nbconvert_exporter": "python",
   "pygments_lexer": "ipython3",
   "version": "3.5.2"
  }
 },
 "nbformat": 4,
 "nbformat_minor": 0
}